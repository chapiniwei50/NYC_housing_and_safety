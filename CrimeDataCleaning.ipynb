{
 "cells": [
  {
   "cell_type": "code",
   "execution_count": 1,
   "metadata": {},
   "outputs": [],
   "source": [
    "import pandas as pd\n",
    "import numpy as np"
   ]
  },
  {
   "cell_type": "code",
   "execution_count": 16,
   "metadata": {},
   "outputs": [],
   "source": [
    "df = pd.read_csv('NYPD_Arrests_Data__Historic_.csv')"
   ]
  },
  {
   "cell_type": "code",
   "execution_count": 25,
   "metadata": {},
   "outputs": [
    {
     "data": {
      "text/html": [
       "<div>\n",
       "<style scoped>\n",
       "    .dataframe tbody tr th:only-of-type {\n",
       "        vertical-align: middle;\n",
       "    }\n",
       "\n",
       "    .dataframe tbody tr th {\n",
       "        vertical-align: top;\n",
       "    }\n",
       "\n",
       "    .dataframe thead th {\n",
       "        text-align: right;\n",
       "    }\n",
       "</style>\n",
       "<table border=\"1\" class=\"dataframe\">\n",
       "  <thead>\n",
       "    <tr style=\"text-align: right;\">\n",
       "      <th></th>\n",
       "      <th>ARREST_KEY</th>\n",
       "      <th>ARREST_DATE</th>\n",
       "      <th>PD_DESC</th>\n",
       "      <th>ARREST_BORO</th>\n",
       "      <th>Latitude</th>\n",
       "      <th>Longitude</th>\n",
       "    </tr>\n",
       "  </thead>\n",
       "  <tbody>\n",
       "    <tr>\n",
       "      <th>1</th>\n",
       "      <td>237354740</td>\n",
       "      <td>2021-12-04</td>\n",
       "      <td>RAPE 3</td>\n",
       "      <td>Bronx</td>\n",
       "      <td>40.816392</td>\n",
       "      <td>-73.895296</td>\n",
       "    </tr>\n",
       "    <tr>\n",
       "      <th>2</th>\n",
       "      <td>236081433</td>\n",
       "      <td>2021-11-09</td>\n",
       "      <td>CHILD, ENDANGERING WELFARE</td>\n",
       "      <td>Queens</td>\n",
       "      <td>40.679700</td>\n",
       "      <td>-73.776047</td>\n",
       "    </tr>\n",
       "    <tr>\n",
       "      <th>4</th>\n",
       "      <td>192799737</td>\n",
       "      <td>2019-01-26</td>\n",
       "      <td>SEXUAL ABUSE</td>\n",
       "      <td>Manhattan</td>\n",
       "      <td>40.800694</td>\n",
       "      <td>-73.941109</td>\n",
       "    </tr>\n",
       "    <tr>\n",
       "      <th>7</th>\n",
       "      <td>236106641</td>\n",
       "      <td>2021-11-10</td>\n",
       "      <td>ARSON 2,3,4</td>\n",
       "      <td>Bronx</td>\n",
       "      <td>40.804013</td>\n",
       "      <td>-73.878332</td>\n",
       "    </tr>\n",
       "    <tr>\n",
       "      <th>8</th>\n",
       "      <td>238383628</td>\n",
       "      <td>2021-12-28</td>\n",
       "      <td>FORGERY,ETC.,UNCLASSIFIED-FELO</td>\n",
       "      <td>Queens</td>\n",
       "      <td>40.691660</td>\n",
       "      <td>-73.779199</td>\n",
       "    </tr>\n",
       "    <tr>\n",
       "      <th>10</th>\n",
       "      <td>237339209</td>\n",
       "      <td>2021-12-04</td>\n",
       "      <td>ASSAULT 3</td>\n",
       "      <td>Brooklyn</td>\n",
       "      <td>40.688584</td>\n",
       "      <td>-73.916526</td>\n",
       "    </tr>\n",
       "    <tr>\n",
       "      <th>12</th>\n",
       "      <td>237580757</td>\n",
       "      <td>2021-12-09</td>\n",
       "      <td>STRANGULATION 1ST</td>\n",
       "      <td>Manhattan</td>\n",
       "      <td>40.828675</td>\n",
       "      <td>-73.943990</td>\n",
       "    </tr>\n",
       "    <tr>\n",
       "      <th>15</th>\n",
       "      <td>221870158</td>\n",
       "      <td>2020-12-15</td>\n",
       "      <td>FACILITATION 4, CRIMINAL</td>\n",
       "      <td>Brooklyn</td>\n",
       "      <td>40.672763</td>\n",
       "      <td>-73.872043</td>\n",
       "    </tr>\n",
       "    <tr>\n",
       "      <th>16</th>\n",
       "      <td>220422940</td>\n",
       "      <td>2020-11-12</td>\n",
       "      <td>RAPE 1</td>\n",
       "      <td>Queens</td>\n",
       "      <td>40.722364</td>\n",
       "      <td>-73.851474</td>\n",
       "    </tr>\n",
       "    <tr>\n",
       "      <th>17</th>\n",
       "      <td>237954587</td>\n",
       "      <td>2021-12-16</td>\n",
       "      <td>ROBBERY,OPEN AREA UNCLASSIFIED</td>\n",
       "      <td>Manhattan</td>\n",
       "      <td>40.720464</td>\n",
       "      <td>-74.006852</td>\n",
       "    </tr>\n",
       "  </tbody>\n",
       "</table>\n",
       "</div>"
      ],
      "text/plain": [
       "    ARREST_KEY ARREST_DATE                         PD_DESC ARREST_BORO  \\\n",
       "1    237354740  2021-12-04                          RAPE 3       Bronx   \n",
       "2    236081433  2021-11-09      CHILD, ENDANGERING WELFARE      Queens   \n",
       "4    192799737  2019-01-26                    SEXUAL ABUSE   Manhattan   \n",
       "7    236106641  2021-11-10                     ARSON 2,3,4       Bronx   \n",
       "8    238383628  2021-12-28  FORGERY,ETC.,UNCLASSIFIED-FELO      Queens   \n",
       "10   237339209  2021-12-04                       ASSAULT 3    Brooklyn   \n",
       "12   237580757  2021-12-09               STRANGULATION 1ST   Manhattan   \n",
       "15   221870158  2020-12-15        FACILITATION 4, CRIMINAL    Brooklyn   \n",
       "16   220422940  2020-11-12                          RAPE 1      Queens   \n",
       "17   237954587  2021-12-16  ROBBERY,OPEN AREA UNCLASSIFIED   Manhattan   \n",
       "\n",
       "     Latitude  Longitude  \n",
       "1   40.816392 -73.895296  \n",
       "2   40.679700 -73.776047  \n",
       "4   40.800694 -73.941109  \n",
       "7   40.804013 -73.878332  \n",
       "8   40.691660 -73.779199  \n",
       "10  40.688584 -73.916526  \n",
       "12  40.828675 -73.943990  \n",
       "15  40.672763 -73.872043  \n",
       "16  40.722364 -73.851474  \n",
       "17  40.720464 -74.006852  "
      ]
     },
     "execution_count": 25,
     "metadata": {},
     "output_type": "execute_result"
    }
   ],
   "source": [
    "df.head(10)"
   ]
  },
  {
   "cell_type": "code",
   "execution_count": 18,
   "metadata": {},
   "outputs": [],
   "source": [
    "df = df.drop(columns = ['PD_CD', 'KY_CD', 'OFNS_DESC', 'LAW_CODE', 'LAW_CAT_CD', 'ARREST_PRECINCT', 'JURISDICTION_CODE', 'AGE_GROUP', 'PERP_SEX', 'PERP_RACE', 'X_COORD_CD', 'Y_COORD_CD', 'Lon_Lat'])"
   ]
  },
  {
   "cell_type": "code",
   "execution_count": 20,
   "metadata": {},
   "outputs": [],
   "source": [
    "df = df.dropna(how='any',axis=0)\n"
   ]
  },
  {
   "cell_type": "code",
   "execution_count": 21,
   "metadata": {},
   "outputs": [],
   "source": [
    "df['ARREST_BORO']= df['ARREST_BORO'].replace('M', 'Manhattan')\n",
    "df['ARREST_BORO']= df['ARREST_BORO'].replace('B', 'Bronx')\n",
    "df['ARREST_BORO']= df['ARREST_BORO'].replace('K', 'Brooklyn')\n",
    "df['ARREST_BORO']= df['ARREST_BORO'].replace('S', 'Staten Island')\n",
    "df['ARREST_BORO']= df['ARREST_BORO'].replace('Q', 'Queens')"
   ]
  },
  {
   "cell_type": "code",
   "execution_count": 24,
   "metadata": {},
   "outputs": [],
   "source": [
    "df['ARREST_DATE'] = pd.to_datetime(df['ARREST_DATE'], format='%m/%d/%Y')\n",
    "df = df[df['ARREST_DATE'] >= '01/01/2019']"
   ]
  },
  {
   "cell_type": "code",
   "execution_count": 30,
   "metadata": {},
   "outputs": [],
   "source": [
    "df.to_csv('Crime Shortened.csv')"
   ]
  }
 ],
 "metadata": {
  "kernelspec": {
   "display_name": "base",
   "language": "python",
   "name": "python3"
  },
  "language_info": {
   "codemirror_mode": {
    "name": "ipython",
    "version": 3
   },
   "file_extension": ".py",
   "mimetype": "text/x-python",
   "name": "python",
   "nbconvert_exporter": "python",
   "pygments_lexer": "ipython3",
   "version": "3.8.8"
  },
  "orig_nbformat": 4,
  "vscode": {
   "interpreter": {
    "hash": "aa8f8613f34bc7cf7011695056e7f01a78a6b2287f1673f0ff5b48edf47bc836"
   }
  }
 },
 "nbformat": 4,
 "nbformat_minor": 2
}
